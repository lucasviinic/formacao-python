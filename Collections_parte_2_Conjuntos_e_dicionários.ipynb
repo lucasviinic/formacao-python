{
  "nbformat": 4,
  "nbformat_minor": 0,
  "metadata": {
    "colab": {
      "name": "Collections parte 2: Conjuntos e dicionários",
      "provenance": [],
      "authorship_tag": "ABX9TyOZQf3NV4+TgewgZ8XmYJwO",
      "include_colab_link": true
    },
    "kernelspec": {
      "name": "python3",
      "display_name": "Python 3"
    },
    "language_info": {
      "name": "python"
    }
  },
  "cells": [
    {
      "cell_type": "markdown",
      "metadata": {
        "id": "view-in-github",
        "colab_type": "text"
      },
      "source": [
        "<a href=\"https://colab.research.google.com/github/lucasviinic/formacao-python/blob/master/Collections_parte_2_Conjuntos_e_dicion%C3%A1rios.ipynb\" target=\"_parent\"><img src=\"https://colab.research.google.com/assets/colab-badge.svg\" alt=\"Open In Colab\"/></a>"
      ]
    },
    {
      "cell_type": "code",
      "metadata": {
        "id": "scLlFm1dP1x3"
      },
      "source": [
        "usuarios_data_science = [15, 23, 43, 56]\n",
        "usuarios_machine_learning = [13, 23, 56, 42]"
      ],
      "execution_count": null,
      "outputs": []
    },
    {
      "cell_type": "code",
      "metadata": {
        "colab": {
          "base_uri": "https://localhost:8080/"
        },
        "id": "ujqOshkYRhuk",
        "outputId": "4c2b0a3c-07e1-4193-80f0-aebb8dfd84c7"
      },
      "source": [
        "assistiram = usuarios_data_science.copy()\n",
        "assistiram.extend(usuarios_machine_learning)\n",
        "assistiram"
      ],
      "execution_count": null,
      "outputs": [
        {
          "output_type": "execute_result",
          "data": {
            "text/plain": [
              "[15, 23, 43, 56, 13, 23, 56, 42]"
            ]
          },
          "metadata": {
            "tags": []
          },
          "execution_count": 5
        }
      ]
    },
    {
      "cell_type": "code",
      "metadata": {
        "colab": {
          "base_uri": "https://localhost:8080/"
        },
        "id": "NP95r_i9THQr",
        "outputId": "14d1ca00-e7ba-495f-ea1d-4dd5c0f46f16"
      },
      "source": [
        "len(assistiram)"
      ],
      "execution_count": null,
      "outputs": [
        {
          "output_type": "execute_result",
          "data": {
            "text/plain": [
              "8"
            ]
          },
          "metadata": {
            "tags": []
          },
          "execution_count": 6
        }
      ]
    },
    {
      "cell_type": "code",
      "metadata": {
        "colab": {
          "base_uri": "https://localhost:8080/"
        },
        "id": "iJZ9m7uwUITD",
        "outputId": "630e2efe-06a8-4de1-b168-ea0899636bc1"
      },
      "source": [
        "set(assistiram)"
      ],
      "execution_count": null,
      "outputs": [
        {
          "output_type": "execute_result",
          "data": {
            "text/plain": [
              "{13, 15, 23, 42, 43, 56}"
            ]
          },
          "metadata": {
            "tags": []
          },
          "execution_count": 7
        }
      ]
    },
    {
      "cell_type": "code",
      "metadata": {
        "colab": {
          "base_uri": "https://localhost:8080/"
        },
        "id": "pgwuTbaMUJtJ",
        "outputId": "ae530d15-b0c7-4877-9b9e-58d167693cf6"
      },
      "source": [
        "{1, 2, 2, 3, 4}"
      ],
      "execution_count": null,
      "outputs": [
        {
          "output_type": "execute_result",
          "data": {
            "text/plain": [
              "{1, 2, 3, 4}"
            ]
          },
          "metadata": {
            "tags": []
          },
          "execution_count": 8
        }
      ]
    },
    {
      "cell_type": "code",
      "metadata": {
        "colab": {
          "base_uri": "https://localhost:8080/"
        },
        "id": "RmZbN12bUaMI",
        "outputId": "48a0762f-6b1c-48ac-8f2e-0dfa2de4b52e"
      },
      "source": [
        "type({1, 2})"
      ],
      "execution_count": null,
      "outputs": [
        {
          "output_type": "execute_result",
          "data": {
            "text/plain": [
              "set"
            ]
          },
          "metadata": {
            "tags": []
          },
          "execution_count": 9
        }
      ]
    },
    {
      "cell_type": "code",
      "metadata": {
        "id": "R4BrcKR2UhVG"
      },
      "source": [
        "usuarios_data_science = {15, 23, 43, 56}\n",
        "usuarios_machine_learning = {13, 23, 56, 42}"
      ],
      "execution_count": null,
      "outputs": []
    },
    {
      "cell_type": "code",
      "metadata": {
        "colab": {
          "base_uri": "https://localhost:8080/"
        },
        "id": "H04zDymfUz75",
        "outputId": "65005161-b24e-4564-f505-a22e04699d66"
      },
      "source": [
        "for usuario in assistiram:\n",
        "  print(usuario)"
      ],
      "execution_count": null,
      "outputs": [
        {
          "output_type": "stream",
          "text": [
            "15\n",
            "23\n",
            "43\n",
            "56\n",
            "13\n",
            "23\n",
            "56\n",
            "42\n"
          ],
          "name": "stdout"
        }
      ]
    },
    {
      "cell_type": "code",
      "metadata": {
        "id": "9f2VVTgkVVgi"
      },
      "source": [
        "usuarios_data_science = {15, 23, 43, 56}\n",
        "usuarios_machine_learning = {13, 23, 56, 42}"
      ],
      "execution_count": null,
      "outputs": []
    },
    {
      "cell_type": "code",
      "metadata": {
        "colab": {
          "base_uri": "https://localhost:8080/"
        },
        "id": "mlO9UghtVuwJ",
        "outputId": "e290a42a-d1c9-4006-de3b-fbb2a69e6c54"
      },
      "source": [
        "usuarios_data_science | usuarios_machine_learning"
      ],
      "execution_count": null,
      "outputs": [
        {
          "output_type": "execute_result",
          "data": {
            "text/plain": [
              "{13, 15, 23, 42, 43, 56}"
            ]
          },
          "metadata": {
            "tags": []
          },
          "execution_count": 13
        }
      ]
    },
    {
      "cell_type": "code",
      "metadata": {
        "colab": {
          "base_uri": "https://localhost:8080/"
        },
        "id": "iwJebjtkaOpS",
        "outputId": "e005ae98-4f6b-4e97-ceb6-6c822c7d24b2"
      },
      "source": [
        "usuarios_data_science & usuarios_machine_learning"
      ],
      "execution_count": null,
      "outputs": [
        {
          "output_type": "execute_result",
          "data": {
            "text/plain": [
              "{23, 56}"
            ]
          },
          "metadata": {
            "tags": []
          },
          "execution_count": 15
        }
      ]
    },
    {
      "cell_type": "code",
      "metadata": {
        "colab": {
          "base_uri": "https://localhost:8080/"
        },
        "id": "2jOULFVnaZRG",
        "outputId": "ccd75271-4475-4235-9f08-7a74a8a2f2d2"
      },
      "source": [
        "usuarios_data_science - usuarios_machine_learning"
      ],
      "execution_count": null,
      "outputs": [
        {
          "output_type": "execute_result",
          "data": {
            "text/plain": [
              "{15, 43}"
            ]
          },
          "metadata": {
            "tags": []
          },
          "execution_count": 16
        }
      ]
    },
    {
      "cell_type": "code",
      "metadata": {
        "id": "y5nm_Inrav4A"
      },
      "source": [
        "fez_ds_mas_nao_fez_ml = usuarios_data_science - usuarios_machine_learning"
      ],
      "execution_count": null,
      "outputs": []
    },
    {
      "cell_type": "code",
      "metadata": {
        "colab": {
          "base_uri": "https://localhost:8080/"
        },
        "id": "JIfeOgKcbBhH",
        "outputId": "9fa12c0a-8392-442a-b9cd-5d42378ae2ec"
      },
      "source": [
        "15 in fez_ds_mas_nao_fez_ml"
      ],
      "execution_count": null,
      "outputs": [
        {
          "output_type": "execute_result",
          "data": {
            "text/plain": [
              "True"
            ]
          },
          "metadata": {
            "tags": []
          },
          "execution_count": 18
        }
      ]
    },
    {
      "cell_type": "code",
      "metadata": {
        "colab": {
          "base_uri": "https://localhost:8080/"
        },
        "id": "eEi-Z1vrbD_8",
        "outputId": "4bd10dd0-d3c6-44d1-e01d-585ccfad0f7f"
      },
      "source": [
        "43 in fez_ds_mas_nao_fez_ml"
      ],
      "execution_count": null,
      "outputs": [
        {
          "output_type": "execute_result",
          "data": {
            "text/plain": [
              "True"
            ]
          },
          "metadata": {
            "tags": []
          },
          "execution_count": 19
        }
      ]
    },
    {
      "cell_type": "code",
      "metadata": {
        "colab": {
          "base_uri": "https://localhost:8080/"
        },
        "id": "QoOIRGbVbJz-",
        "outputId": "f8666b8d-363f-4bbc-a53d-df78866c6241"
      },
      "source": [
        "23 in fez_ds_mas_nao_fez_ml"
      ],
      "execution_count": null,
      "outputs": [
        {
          "output_type": "execute_result",
          "data": {
            "text/plain": [
              "False"
            ]
          },
          "metadata": {
            "tags": []
          },
          "execution_count": 20
        }
      ]
    },
    {
      "cell_type": "code",
      "metadata": {
        "colab": {
          "base_uri": "https://localhost:8080/"
        },
        "id": "yWxJkl0zbNMp",
        "outputId": "9cb74c98-880b-4b7c-e403-94a534677295"
      },
      "source": [
        "usuarios_data_science ^ usuarios_machine_learning"
      ],
      "execution_count": null,
      "outputs": [
        {
          "output_type": "execute_result",
          "data": {
            "text/plain": [
              "{13, 15, 42, 43}"
            ]
          },
          "metadata": {
            "tags": []
          },
          "execution_count": 21
        }
      ]
    },
    {
      "cell_type": "code",
      "metadata": {
        "colab": {
          "base_uri": "https://localhost:8080/"
        },
        "id": "JTVuz1aUbUXC",
        "outputId": "aa217185-4f97-4306-930a-b20771c7fa9e"
      },
      "source": [
        "usuarios = {1, 5, 76, 34, 52, 13, 17}\n",
        "len(usuarios)"
      ],
      "execution_count": null,
      "outputs": [
        {
          "output_type": "execute_result",
          "data": {
            "text/plain": [
              "7"
            ]
          },
          "metadata": {
            "tags": []
          },
          "execution_count": 23
        }
      ]
    },
    {
      "cell_type": "code",
      "metadata": {
        "colab": {
          "base_uri": "https://localhost:8080/"
        },
        "id": "iOgxVqcsb_fW",
        "outputId": "5afafec1-b7d6-4c7e-dfae-5752b2d38934"
      },
      "source": [
        "usuarios.add(13)\n",
        "len(usuarios)"
      ],
      "execution_count": null,
      "outputs": [
        {
          "output_type": "execute_result",
          "data": {
            "text/plain": [
              "7"
            ]
          },
          "metadata": {
            "tags": []
          },
          "execution_count": 26
        }
      ]
    },
    {
      "cell_type": "code",
      "metadata": {
        "id": "bzne4T-5cM7s"
      },
      "source": [
        "usuarios.add(765)"
      ],
      "execution_count": null,
      "outputs": []
    },
    {
      "cell_type": "code",
      "metadata": {
        "colab": {
          "base_uri": "https://localhost:8080/"
        },
        "id": "8iI5hs4McfmC",
        "outputId": "6a527849-9e77-497a-88eb-b9f8358ff707"
      },
      "source": [
        "len(usuarios)"
      ],
      "execution_count": null,
      "outputs": [
        {
          "output_type": "execute_result",
          "data": {
            "text/plain": [
              "8"
            ]
          },
          "metadata": {
            "tags": []
          },
          "execution_count": 28
        }
      ]
    },
    {
      "cell_type": "code",
      "metadata": {
        "colab": {
          "base_uri": "https://localhost:8080/"
        },
        "id": "fcdB_qQscgiT",
        "outputId": "1abdfac1-0e46-41f8-af59-0c1818c85475"
      },
      "source": [
        "usuarios"
      ],
      "execution_count": null,
      "outputs": [
        {
          "output_type": "execute_result",
          "data": {
            "text/plain": [
              "{1, 5, 13, 17, 34, 52, 76, 765}"
            ]
          },
          "metadata": {
            "tags": []
          },
          "execution_count": 29
        }
      ]
    },
    {
      "cell_type": "code",
      "metadata": {
        "colab": {
          "base_uri": "https://localhost:8080/"
        },
        "id": "1VD6Mpwwcj0_",
        "outputId": "1466e233-1e71-4364-f85e-cb8e0d84ef80"
      },
      "source": [
        "usuarios = frozenset(usuarios)\n",
        "usuarios"
      ],
      "execution_count": null,
      "outputs": [
        {
          "output_type": "execute_result",
          "data": {
            "text/plain": [
              "frozenset({1, 5, 13, 17, 34, 52, 76, 765})"
            ]
          },
          "metadata": {
            "tags": []
          },
          "execution_count": 32
        }
      ]
    },
    {
      "cell_type": "code",
      "metadata": {
        "colab": {
          "base_uri": "https://localhost:8080/"
        },
        "id": "nnNDtSLQcrco",
        "outputId": "3c8c93a1-c295-42ed-f127-9586d8ccdabd"
      },
      "source": [
        "type(usuarios)"
      ],
      "execution_count": null,
      "outputs": [
        {
          "output_type": "execute_result",
          "data": {
            "text/plain": [
              "frozenset"
            ]
          },
          "metadata": {
            "tags": []
          },
          "execution_count": 33
        }
      ]
    },
    {
      "cell_type": "code",
      "metadata": {
        "colab": {
          "base_uri": "https://localhost:8080/"
        },
        "id": "qGZuJiZvcxxN",
        "outputId": "4d9f9308-8f56-4d3e-e720-280311479779"
      },
      "source": [
        "meu_texto = \"Bem vindo meu nome é Lucas eu gosto muito de nomes e eu tenho o meu cachorro e gosto muito de cachorro\"\n",
        "meu_texto.split()"
      ],
      "execution_count": null,
      "outputs": [
        {
          "output_type": "execute_result",
          "data": {
            "text/plain": [
              "['Bem',\n",
              " 'vindo',\n",
              " 'meu',\n",
              " 'nome',\n",
              " 'é',\n",
              " 'Lucas',\n",
              " 'eu',\n",
              " 'gosto',\n",
              " 'muito',\n",
              " 'de',\n",
              " 'nomes',\n",
              " 'e',\n",
              " 'eu',\n",
              " 'tenho',\n",
              " 'o',\n",
              " 'meu',\n",
              " 'cachorro',\n",
              " 'e',\n",
              " 'gosto',\n",
              " 'muito',\n",
              " 'de',\n",
              " 'cachorro']"
            ]
          },
          "metadata": {
            "tags": []
          },
          "execution_count": 35
        }
      ]
    },
    {
      "cell_type": "code",
      "metadata": {
        "colab": {
          "base_uri": "https://localhost:8080/"
        },
        "id": "mlWlnvRee72Q",
        "outputId": "951cc032-a06e-4a63-9a71-0364025cf4a1"
      },
      "source": [
        "set(meu_texto.split())"
      ],
      "execution_count": null,
      "outputs": [
        {
          "output_type": "execute_result",
          "data": {
            "text/plain": [
              "{'Bem',\n",
              " 'Lucas',\n",
              " 'cachorro',\n",
              " 'de',\n",
              " 'e',\n",
              " 'eu',\n",
              " 'gosto',\n",
              " 'meu',\n",
              " 'muito',\n",
              " 'nome',\n",
              " 'nomes',\n",
              " 'o',\n",
              " 'tenho',\n",
              " 'vindo',\n",
              " 'é'}"
            ]
          },
          "metadata": {
            "tags": []
          },
          "execution_count": 36
        }
      ]
    },
    {
      "cell_type": "markdown",
      "metadata": {
        "id": "zSofikq1f6qg"
      },
      "source": [
        "#Dicionário (Mapa)"
      ]
    },
    {
      "cell_type": "code",
      "metadata": {
        "id": "fJpnGrlAf-8o"
      },
      "source": [
        "aparicoes = {\n",
        "  \"Lucas\" : 1,\n",
        "  \"cachorro\" : 2,\n",
        "  \"nome\" : 2,\n",
        "  \"vindo\" : 1\n",
        " }"
      ],
      "execution_count": null,
      "outputs": []
    },
    {
      "cell_type": "code",
      "metadata": {
        "colab": {
          "base_uri": "https://localhost:8080/"
        },
        "id": "hJMcZByggqd_",
        "outputId": "0d0670a8-36fc-4e7c-c04d-bf80993166d4"
      },
      "source": [
        "type(aparicoes)"
      ],
      "execution_count": null,
      "outputs": [
        {
          "output_type": "execute_result",
          "data": {
            "text/plain": [
              "dict"
            ]
          },
          "metadata": {
            "tags": []
          },
          "execution_count": 38
        }
      ]
    },
    {
      "cell_type": "code",
      "metadata": {
        "colab": {
          "base_uri": "https://localhost:8080/"
        },
        "id": "2_iii5sFguWu",
        "outputId": "0954fa42-108c-4b45-83fb-8309f22d4191"
      },
      "source": [
        "aparicoes[\"Lucas\"]"
      ],
      "execution_count": null,
      "outputs": [
        {
          "output_type": "execute_result",
          "data": {
            "text/plain": [
              "1"
            ]
          },
          "metadata": {
            "tags": []
          },
          "execution_count": 39
        }
      ]
    },
    {
      "cell_type": "code",
      "metadata": {
        "colab": {
          "base_uri": "https://localhost:8080/"
        },
        "id": "YP_EaWpEg0Z3",
        "outputId": "b3c80408-c4aa-4dbe-87b2-e1502929e735"
      },
      "source": [
        "aparicoes[\"cachorro\"]"
      ],
      "execution_count": null,
      "outputs": [
        {
          "output_type": "execute_result",
          "data": {
            "text/plain": [
              "2"
            ]
          },
          "metadata": {
            "tags": []
          },
          "execution_count": 40
        }
      ]
    },
    {
      "cell_type": "code",
      "metadata": {
        "colab": {
          "base_uri": "https://localhost:8080/",
          "height": 163
        },
        "id": "CIts6FS9g4lP",
        "outputId": "953699cc-253c-4c13-984c-0be8812d6502"
      },
      "source": [
        "aparicoes[\"xpto\"]"
      ],
      "execution_count": null,
      "outputs": [
        {
          "output_type": "error",
          "ename": "KeyError",
          "evalue": "ignored",
          "traceback": [
            "\u001b[0;31m---------------------------------------------------------------------------\u001b[0m",
            "\u001b[0;31mKeyError\u001b[0m                                  Traceback (most recent call last)",
            "\u001b[0;32m<ipython-input-42-5844a27a46e4>\u001b[0m in \u001b[0;36m<module>\u001b[0;34m()\u001b[0m\n\u001b[0;32m----> 1\u001b[0;31m \u001b[0maparicoes\u001b[0m\u001b[0;34m[\u001b[0m\u001b[0;34m\"xpto\"\u001b[0m\u001b[0;34m]\u001b[0m\u001b[0;34m\u001b[0m\u001b[0;34m\u001b[0m\u001b[0m\n\u001b[0m",
            "\u001b[0;31mKeyError\u001b[0m: 'xpto'"
          ]
        }
      ]
    },
    {
      "cell_type": "code",
      "metadata": {
        "colab": {
          "base_uri": "https://localhost:8080/"
        },
        "id": "fs4NHWrfg_ZX",
        "outputId": "2f15a076-1450-4804-c5d1-75f992528282"
      },
      "source": [
        "aparicoes.get(\"xpto\", 0)"
      ],
      "execution_count": null,
      "outputs": [
        {
          "output_type": "execute_result",
          "data": {
            "text/plain": [
              "0"
            ]
          },
          "metadata": {
            "tags": []
          },
          "execution_count": 43
        }
      ]
    },
    {
      "cell_type": "code",
      "metadata": {
        "colab": {
          "base_uri": "https://localhost:8080/"
        },
        "id": "8Yh11NrShJ12",
        "outputId": "8d22f46a-50b0-4498-c929-fa08348b9e64"
      },
      "source": [
        "aparicoes.get(\"cachorro\", 0)"
      ],
      "execution_count": null,
      "outputs": [
        {
          "output_type": "execute_result",
          "data": {
            "text/plain": [
              "2"
            ]
          },
          "metadata": {
            "tags": []
          },
          "execution_count": 44
        }
      ]
    },
    {
      "cell_type": "code",
      "metadata": {
        "colab": {
          "base_uri": "https://localhost:8080/"
        },
        "id": "48vEwzm4hRJB",
        "outputId": "b3726eb1-ddd4-4f5d-fd26-d1740f333f38"
      },
      "source": [
        "aparicoes = dict(Lucas = 2, cachorro = 1)\n",
        "aparicoes"
      ],
      "execution_count": null,
      "outputs": [
        {
          "output_type": "execute_result",
          "data": {
            "text/plain": [
              "{'Lucas': 2, 'cachorro': 1}"
            ]
          },
          "metadata": {
            "tags": []
          },
          "execution_count": 46
        }
      ]
    },
    {
      "cell_type": "code",
      "metadata": {
        "id": "zwKXwbyShgd7"
      },
      "source": [
        "aparicoes = {\n",
        "  \"Lucas\" : 1,\n",
        "  \"cachorro\" : 2,\n",
        "  \"nome\" : 2,\n",
        "  \"vindo\" : 1\n",
        " }"
      ],
      "execution_count": null,
      "outputs": []
    },
    {
      "cell_type": "code",
      "metadata": {
        "id": "znYkX7nIhu6Y"
      },
      "source": [
        "aparicoes[\"Carlos\"] = 1"
      ],
      "execution_count": null,
      "outputs": []
    },
    {
      "cell_type": "code",
      "metadata": {
        "colab": {
          "base_uri": "https://localhost:8080/"
        },
        "id": "c8OADyVRh6sz",
        "outputId": "cee69116-1e2b-45da-8e74-c47b66a95c87"
      },
      "source": [
        "aparicoes"
      ],
      "execution_count": null,
      "outputs": [
        {
          "output_type": "execute_result",
          "data": {
            "text/plain": [
              "{'Carlos': 1, 'Lucas': 1, 'cachorro': 2, 'nome': 2, 'vindo': 1}"
            ]
          },
          "metadata": {
            "tags": []
          },
          "execution_count": 49
        }
      ]
    },
    {
      "cell_type": "code",
      "metadata": {
        "id": "j206NPAdh75o"
      },
      "source": [
        "aparicoes[\"Carlos\"] = 2"
      ],
      "execution_count": null,
      "outputs": []
    },
    {
      "cell_type": "code",
      "metadata": {
        "colab": {
          "base_uri": "https://localhost:8080/"
        },
        "id": "SwHPTYxoiCWO",
        "outputId": "ea754f97-0a02-4e2f-bb14-9ff9532a7918"
      },
      "source": [
        "aparicoes"
      ],
      "execution_count": null,
      "outputs": [
        {
          "output_type": "execute_result",
          "data": {
            "text/plain": [
              "{'Carlos': 2, 'Lucas': 1, 'cachorro': 2, 'nome': 2, 'vindo': 1}"
            ]
          },
          "metadata": {
            "tags": []
          },
          "execution_count": 51
        }
      ]
    },
    {
      "cell_type": "code",
      "metadata": {
        "id": "hFbcEuTxiDAi"
      },
      "source": [
        "del aparicoes[\"Carlos\"]"
      ],
      "execution_count": null,
      "outputs": []
    },
    {
      "cell_type": "code",
      "metadata": {
        "colab": {
          "base_uri": "https://localhost:8080/"
        },
        "id": "qgZGLIzdiJ1s",
        "outputId": "ae2c751e-4a2c-4b6f-b7bf-994e150a06d5"
      },
      "source": [
        "aparicoes"
      ],
      "execution_count": null,
      "outputs": [
        {
          "output_type": "execute_result",
          "data": {
            "text/plain": [
              "{'Lucas': 1, 'cachorro': 2, 'nome': 2, 'vindo': 1}"
            ]
          },
          "metadata": {
            "tags": []
          },
          "execution_count": 53
        }
      ]
    },
    {
      "cell_type": "code",
      "metadata": {
        "colab": {
          "base_uri": "https://localhost:8080/"
        },
        "id": "GLN7dTvDiKmA",
        "outputId": "176b0da6-76bb-4b80-ac68-40a263075ca7"
      },
      "source": [
        "\"cachorro\" in aparicoes"
      ],
      "execution_count": null,
      "outputs": [
        {
          "output_type": "execute_result",
          "data": {
            "text/plain": [
              "True"
            ]
          },
          "metadata": {
            "tags": []
          },
          "execution_count": 54
        }
      ]
    },
    {
      "cell_type": "code",
      "metadata": {
        "colab": {
          "base_uri": "https://localhost:8080/"
        },
        "id": "Vv9SA5fviVm6",
        "outputId": "10a1d61a-fb05-4dd4-d089-9b0311e17cb8"
      },
      "source": [
        "\"Carlos\" in aparicoes"
      ],
      "execution_count": null,
      "outputs": [
        {
          "output_type": "execute_result",
          "data": {
            "text/plain": [
              "False"
            ]
          },
          "metadata": {
            "tags": []
          },
          "execution_count": 55
        }
      ]
    },
    {
      "cell_type": "code",
      "metadata": {
        "colab": {
          "base_uri": "https://localhost:8080/"
        },
        "id": "zKCjtT4siapv",
        "outputId": "244adc25-f149-4bcb-b2ac-531cbd528054"
      },
      "source": [
        "for elemento in aparicoes.values():\n",
        "  print(elemento)"
      ],
      "execution_count": null,
      "outputs": [
        {
          "output_type": "stream",
          "text": [
            "1\n",
            "2\n",
            "2\n",
            "1\n"
          ],
          "name": "stdout"
        }
      ]
    },
    {
      "cell_type": "code",
      "metadata": {
        "colab": {
          "base_uri": "https://localhost:8080/"
        },
        "id": "JaWcMKv5ijx0",
        "outputId": "000e1915-ed76-4e4b-eacd-e6f73f542501"
      },
      "source": [
        "1 in aparicoes.values()"
      ],
      "execution_count": null,
      "outputs": [
        {
          "output_type": "execute_result",
          "data": {
            "text/plain": [
              "True"
            ]
          },
          "metadata": {
            "tags": []
          },
          "execution_count": 66
        }
      ]
    },
    {
      "cell_type": "code",
      "metadata": {
        "colab": {
          "base_uri": "https://localhost:8080/"
        },
        "id": "x_I35ndjjX8F",
        "outputId": "95ca3351-962f-440b-c46f-1924033f37ea"
      },
      "source": [
        "for elemento in aparicoes.keys():\n",
        "  valor = aparicoes[elemento]\n",
        "  print(elemento, valor)"
      ],
      "execution_count": null,
      "outputs": [
        {
          "output_type": "stream",
          "text": [
            "Lucas 1\n",
            "cachorro 2\n",
            "nome 2\n",
            "vindo 1\n"
          ],
          "name": "stdout"
        }
      ]
    },
    {
      "cell_type": "code",
      "metadata": {
        "colab": {
          "base_uri": "https://localhost:8080/"
        },
        "id": "goa-Qfarjno-",
        "outputId": "3837d862-b2ec-48d4-f0f2-714ea7765a79"
      },
      "source": [
        "for elemento in aparicoes.items():\n",
        "  print(elemento)"
      ],
      "execution_count": null,
      "outputs": [
        {
          "output_type": "stream",
          "text": [
            "('Lucas', 1)\n",
            "('cachorro', 2)\n",
            "('nome', 2)\n",
            "('vindo', 1)\n"
          ],
          "name": "stdout"
        }
      ]
    },
    {
      "cell_type": "code",
      "metadata": {
        "colab": {
          "base_uri": "https://localhost:8080/"
        },
        "id": "ZQNehpj1j5cd",
        "outputId": "bf298bd3-6c28-4b66-b3b4-88362ee1bc23"
      },
      "source": [
        "for chave, valor in aparicoes.items():meu_texto = \"Bem vindo meu nome é Lucas eu gosto muito de nomes e eu tenho o meu cachorro e gosto muito de cachorro\""
      ],
      "execution_count": null,
      "outputs": [
        {
          "output_type": "stream",
          "text": [
            "Lucas = 1\n",
            "cachorro = 2\n",
            "nome = 2\n",
            "vindo = 1\n"
          ],
          "name": "stdout"
        }
      ]
    },
    {
      "cell_type": "code",
      "metadata": {
        "colab": {
          "base_uri": "https://localhost:8080/"
        },
        "id": "y1Tv7kcNkQZ-",
        "outputId": "42496eb6-e7ef-4e7d-83dd-070e36afd179"
      },
      "source": [
        "[f\"palavra {chave}\" for chave in aparicoes.keys()]"
      ],
      "execution_count": null,
      "outputs": [
        {
          "output_type": "execute_result",
          "data": {
            "text/plain": [
              "['palavra Lucas', 'palavra cachorro', 'palavra nome', 'palavra vindo']"
            ]
          },
          "metadata": {
            "tags": []
          },
          "execution_count": 72
        }
      ]
    },
    {
      "cell_type": "code",
      "metadata": {
        "colab": {
          "base_uri": "https://localhost:8080/"
        },
        "id": "W5Ew2tHqnDUL",
        "outputId": "c53d8a50-515f-4d67-9d3c-be15a41af519"
      },
      "source": [
        "meu_texto = \"Bem vindo meu nome é Lucas eu gosto muito de nomes e eu tenho o meu cachorro e gosto muito de cachorro\"\n",
        "meu_texto = meu_texto.lower()\n",
        "\n",
        "aparicoes = {}\n",
        "\n",
        "for palavra in meu_texto.split():\n",
        "  ate_agora = aparicoes.get(palavra, 0)\n",
        "  aparicoes[palavra] = ate_agora + 1\n",
        "\n",
        "aparicoes"
      ],
      "execution_count": 5,
      "outputs": [
        {
          "output_type": "execute_result",
          "data": {
            "text/plain": [
              "{'bem': 1,\n",
              " 'cachorro': 2,\n",
              " 'de': 2,\n",
              " 'e': 2,\n",
              " 'eu': 2,\n",
              " 'gosto': 2,\n",
              " 'lucas': 1,\n",
              " 'meu': 2,\n",
              " 'muito': 2,\n",
              " 'nome': 1,\n",
              " 'nomes': 1,\n",
              " 'o': 1,\n",
              " 'tenho': 1,\n",
              " 'vindo': 1,\n",
              " 'é': 1}"
            ]
          },
          "metadata": {
            "tags": []
          },
          "execution_count": 5
        }
      ]
    },
    {
      "cell_type": "code",
      "metadata": {
        "colab": {
          "base_uri": "https://localhost:8080/"
        },
        "id": "-b2_VyYKNUy6",
        "outputId": "33eb38a4-150e-4399-98c1-076252acd605"
      },
      "source": [
        "from collections import defaultdict\n",
        "\n",
        "aparicoes = defaultdict(int)\n",
        "for palavra in meu_texto.split():\n",
        "  aparicoes[palavra] += 1\n",
        "\n",
        "aparicoes"
      ],
      "execution_count": null,
      "outputs": [
        {
          "output_type": "execute_result",
          "data": {
            "text/plain": [
              "defaultdict(int,\n",
              "            {'bem': 1,\n",
              "             'cachorro': 2,\n",
              "             'de': 2,\n",
              "             'e': 2,\n",
              "             'eu': 2,\n",
              "             'gosto': 2,\n",
              "             'lucas': 1,\n",
              "             'meu': 2,\n",
              "             'muito': 2,\n",
              "             'nome': 1,\n",
              "             'nomes': 1,\n",
              "             'o': 1,\n",
              "             'tenho': 1,\n",
              "             'vindo': 1,\n",
              "             'é': 1})"
            ]
          },
          "metadata": {
            "tags": []
          },
          "execution_count": 5
        }
      ]
    },
    {
      "cell_type": "code",
      "metadata": {
        "id": "6jR49n2xQIu4"
      },
      "source": [
        "class Conta:\n",
        "  def __init__(self):\n",
        "    print(\"Criando uma conta nova\")"
      ],
      "execution_count": null,
      "outputs": []
    },
    {
      "cell_type": "code",
      "metadata": {
        "colab": {
          "base_uri": "https://localhost:8080/"
        },
        "id": "Aou2qChdQVJu",
        "outputId": "8efb5205-9652-47f0-f6f0-4064268d121f"
      },
      "source": [
        "conta = defaultdict(Conta)\n",
        "conta[15]"
      ],
      "execution_count": null,
      "outputs": [
        {
          "output_type": "stream",
          "text": [
            "Criando uma conta nova\n"
          ],
          "name": "stdout"
        },
        {
          "output_type": "execute_result",
          "data": {
            "text/plain": [
              "<__main__.Conta at 0x7f40ef660910>"
            ]
          },
          "metadata": {
            "tags": []
          },
          "execution_count": 7
        }
      ]
    },
    {
      "cell_type": "code",
      "metadata": {
        "colab": {
          "base_uri": "https://localhost:8080/",
          "height": 231
        },
        "id": "Klg__vz1QjyL",
        "outputId": "2051d15a-6020-4a68-921a-004011079a84"
      },
      "source": [
        "from collections import Counter\n",
        "\n",
        "aparicoes = Counter()\n",
        "for palavra in meu_texto.split():\n",
        "  aparicoes[palavra] += 1\n",
        "\n",
        "aparicoes"
      ],
      "execution_count": 4,
      "outputs": [
        {
          "output_type": "error",
          "ename": "NameError",
          "evalue": "ignored",
          "traceback": [
            "\u001b[0;31m---------------------------------------------------------------------------\u001b[0m",
            "\u001b[0;31mNameError\u001b[0m                                 Traceback (most recent call last)",
            "\u001b[0;32m<ipython-input-4-16e8a6b8410c>\u001b[0m in \u001b[0;36m<module>\u001b[0;34m()\u001b[0m\n\u001b[1;32m      2\u001b[0m \u001b[0;34m\u001b[0m\u001b[0m\n\u001b[1;32m      3\u001b[0m \u001b[0maparicoes\u001b[0m \u001b[0;34m=\u001b[0m \u001b[0mCounter\u001b[0m\u001b[0;34m(\u001b[0m\u001b[0;34m)\u001b[0m\u001b[0;34m\u001b[0m\u001b[0;34m\u001b[0m\u001b[0m\n\u001b[0;32m----> 4\u001b[0;31m \u001b[0;32mfor\u001b[0m \u001b[0mpalavra\u001b[0m \u001b[0;32min\u001b[0m \u001b[0mmeu_texto\u001b[0m\u001b[0;34m.\u001b[0m\u001b[0msplit\u001b[0m\u001b[0;34m(\u001b[0m\u001b[0;34m)\u001b[0m\u001b[0;34m:\u001b[0m\u001b[0;34m\u001b[0m\u001b[0;34m\u001b[0m\u001b[0m\n\u001b[0m\u001b[1;32m      5\u001b[0m   \u001b[0maparicoes\u001b[0m\u001b[0;34m[\u001b[0m\u001b[0mpalavra\u001b[0m\u001b[0;34m]\u001b[0m \u001b[0;34m+=\u001b[0m \u001b[0;36m1\u001b[0m\u001b[0;34m\u001b[0m\u001b[0;34m\u001b[0m\u001b[0m\n\u001b[1;32m      6\u001b[0m \u001b[0;34m\u001b[0m\u001b[0m\n",
            "\u001b[0;31mNameError\u001b[0m: name 'meu_texto' is not defined"
          ]
        }
      ]
    },
    {
      "cell_type": "code",
      "metadata": {
        "colab": {
          "base_uri": "https://localhost:8080/"
        },
        "id": "mFQ2fOWERV1V",
        "outputId": "7558b322-687b-40a9-88a5-cbcf350b064b"
      },
      "source": [
        "aparicoes = Counter(meu_texto.split())\n",
        "aparicoes"
      ],
      "execution_count": null,
      "outputs": [
        {
          "output_type": "execute_result",
          "data": {
            "text/plain": [
              "Counter({'bem': 1,\n",
              "         'cachorro': 2,\n",
              "         'de': 2,\n",
              "         'e': 2,\n",
              "         'eu': 2,\n",
              "         'gosto': 2,\n",
              "         'lucas': 1,\n",
              "         'meu': 2,\n",
              "         'muito': 2,\n",
              "         'nome': 1,\n",
              "         'nomes': 1,\n",
              "         'o': 1,\n",
              "         'tenho': 1,\n",
              "         'vindo': 1,\n",
              "         'é': 1})"
            ]
          },
          "metadata": {
            "tags": []
          },
          "execution_count": 9
        }
      ]
    },
    {
      "cell_type": "markdown",
      "metadata": {
        "id": "ieFWsL7Efydm"
      },
      "source": [
        "#Testando o uso de diversas coleções"
      ]
    },
    {
      "cell_type": "code",
      "metadata": {
        "id": "H1TvXS7Zff7G"
      },
      "source": [
        "texto1 = \"\"\"\n",
        "  Para começar a fazer vendas online, uma empresa que fabrica adesivos criou uma página para pré cadastro de cartão de crédito que contém campos como nome, idade, endereço, CPF entre outros.\n",
        "\n",
        "O problema é que alguns cadastros não possuem um formato de CPF válido, isso porque o campo não possui nenhuma validação. Ou seja, o campo está aceitando não só números como letras e outros tipos de caractere.\n",
        "\n",
        "O que vamos fazer é encontrar uma maneira de ajudar o usuário de forma mais clara possível a preencher o cadastro e garantir a validação no front-end antes que os dados sejam enviados para o back-end.\n",
        "\n",
        "\n",
        "\n",
        "Como podemos notar não temos nenhuma validação, então fica confuso se devemos ou não colocar ponto ou traço no CPF e pode acontecer do usuário colocar outros caracteres no campo sem querer.\n",
        "\n",
        "Para isso evitar que isso ocorra vamos usar o atributo pattern do HTML5 que nos permite fazer uso das famosas expressões regulares que nada mais são que padrões utilizados para selecionar caracteres em uma string.\n",
        "\n",
        "Na nossa verificação vamos usar a lista [0-9], esse padrão indica que queremos os números de 0 até 9 e o intervalo {11}, indicando que temos que ter um número de 11 dígitos no nosso campo.\n",
        "\n",
        "Com a adição do pattern nosso campo de CPF ficou da seguinte maneira:\n",
        "\n",
        "\n",
        "\n",
        "Com a ajuda do pattern e das expressões regulares conseguimos resolver uma parte da tarefa, agora o que precisamos fazer encontrar uma maneira de formatar o CPF no padrão que precisamos enviar ao back-end.\n",
        "\n",
        "Mais um pouco de Regex\n",
        "Para começar vamos criar uma função que vai ser responsável por formatar o CPF. Dentro dessa função vamos ter as variáveis :\n",
        "\n",
        "elementoAlvo: responsável pelo parâmetro que vai ser passado na função\n",
        "cpfAtual: responsável por capturar os números do CPF digitados\n",
        "cpfAtualizado: responsável por receber o CPF formatado.\n",
        "\"\"\""
      ],
      "execution_count": 1,
      "outputs": []
    },
    {
      "cell_type": "code",
      "metadata": {
        "id": "ey_06EGmhhot"
      },
      "source": [
        "texto2 = \"\"\"\n",
        "Vamos imaginar uma empresa como o Nubank, seu nome é ByteBank. A primeira vista ela vende cartões de crédito e possui uma estratégia de marketing de conteúdo para seus clientes (Business to Consumer, B2C).\n",
        "\n",
        "Agora ela está lançando um novo cartão focado em empresas e quer criar uma estratégia de marketing de conteúdo para outras empresas (business to business, B2B).\n",
        "\n",
        "Como eles podem criar essa estratégia? É possível utilizar ideias e ferramentas do marketing de conteúdo B2C para o B2B?\n",
        "\n",
        "No marketing de conteúdo criado para B2C da ByteBank é muito enfatizado que as principais vantagens da empresa são:\n",
        "\n",
        "saber o limite na hora;\n",
        "não pagar qualquer tarifa e\n",
        "não ter que lidar com burocracia na hora de fazer o cartão.\n",
        "Então, todo o plano é focado em criar conteúdos sobre questões relacionadas ao mundo financeiro, para mostrar que a empresa é especialista no assunto, transmitindo uma confiança aos clientes.\n",
        "\n",
        "A equipe de marketing escreveu um texto no qual foram explicadas todas as taxas do cartão de crédito. Depois de explicar com detalhes o que é cada taxa, foi mostrado o porquê do cartão dessa empresa não cobrar nenhuma delas.\n",
        "\n",
        "Para mostrar na prática o quanto o consumidor economizaria, eles deram como um exemplo que mostram o que pode ser comprado com o dinheiro economizado em tarifas do cartão. Veja como ficou o texto:\n",
        "\n",
        "Se a tarifa é de 30 reais por mês, depois de um ano: 30 (tarifa) * 12 (meses) = 360, você gasta R$ 360,00 só em tarifas! Não seria muito melhor comprar um Kindle ou dois jogos para Playstation 4 ou, até mesmo, ir uma vez por mês ao cinema (e pagando inteira) com esse dinheiro em vez de pagá-lo em tarifas?\n",
        "\n",
        "Será que se pode fazer a mesma coisa para o B2B, já que não existem tarifas para empresas também?\n",
        "\n",
        "As empresas que querem comprar um produto precisam avaliar muito bem toda a compra, sempre se perguntando se aquele produto realmente compensa para ela, principalmente a longo prazo.\n",
        "\n",
        "Então, e se fosse dito coisas que a empresa poderia fazer com o dinheiro que também vão trazer um retorno financeiro, ao contrário das taxas dos bancos? Como fazer pesquisas com usuários, desenvolver novos produtos, treinar pessoas para marketing, entre outras coisas?\n",
        "\n",
        "Pensando nessas diferenças, utilizamos o mesmo exemplo: quanto seria economizado por ano pela empresa cliente. Porém, no texto inteiro, queremos também mostrar dicas de como ela pode poupar, de diversas maneiras, mesmo usando um cartão de crédito. Então, o exemplo de economia no texto ficou assim:\n",
        "\n",
        "Pensando que a tarifa para empresas é mais barata que para pessoas físicas, ou seja, de 30 reais, passa a ser 10 reais por cartão para cada colaborador, e dez cartões serão feitos, cada um pertencendo a colaborador, depois de um ano, serão pagos: 10 (de tarifa) * 10 (quantidade de cartões) * 12 (meses do ano) = 1200.\n",
        "\n",
        "Assim, a organização gastaria R$ 1.200,00 para manter os cartões durante esse período. Agora, se os cartões não possuem tarifa nenhuma, em vez de pagar esse valor, a empresa economizará R$1.200,00.\n",
        "\n",
        "Agora, com essa economia, você poderia investir em treinamentos ou eventos, que, após um tempo, poderiam aumentar ainda mais o retorno da empresa.\n",
        "\n",
        "Foi usada uma linguagem mais formal do que a B2C porque quando estamos lidando com empresas temos que ser mais práticos e mostrar exatamente o que a empresa ganha, e, no caso, até como poderia ganhar mais depois.\n",
        "\n",
        "Além dessa mudança na linguagem, tivemos ideias diferentes de conteúdo. No B2C foram apresentados conhecimentos a respeito de cada taxa, para que a pessoa entenda o que está pagando e confie em empresas que não cobra as taxas.\n",
        "\n",
        "Agora para B2B foram apresentadas formas para economizar no cartão, pois, muitas vezes, os empresários sabem o que é cada taxa do cartão e tem que utilizá-lo mesmo assim. Então, mostramos como ele pode economizar e, uma dessas formas, é usar o cartão da ByteBank.\n",
        "\n",
        "Nesse mesmo texto para B2B também acrescentamos o conteúdo de outra vantagem do cartão: poder determinar um limite de gastos para cada categoria nos cartões dos funcionários da empresa.\n",
        "\n",
        "Dessa forma, os funcionários não podem gastar mais do que o determinado e, assim, a empresa consegue economizar e planejar os gastos e não extrapolar com compras dos funcionários.\n",
        "\n",
        "O foco da comunicação B2B que utilizamos foi dar dicas para não cometer erros e economizar mais, para que a empresa perceba que utilizar o cartão é vantagem.\n",
        "\n",
        "E caso a sua empresa seja diferente da ByteBank, seja só B2B e não tenha nenhum plano de comunicação focado para B2C para se basear?\n",
        "\n",
        "Existem diversas empresas B2B:\n",
        "\n",
        "as que vendem tanto para B2B quanto para B2C, como a ByteBank;\n",
        "as que vendem para ambos os consumidores, mas possuem um foco maior no B2B, como a Marmotex, que tem como serviço entrega de marmitas e entregam tanto para consumidores quanto empresas, mas possuem um foco maior em organizações e catering para eventos, ou seja, B2B\n",
        "as empresas somente B2B, como as de agências de publicidade.\n",
        "Cada uma das empresas que são B2B possui um produto e um serviço para mostrar.\n",
        "\n",
        "Então, caso você trabalhe em uma empresa que não possui um plano de marketing de conteúdo para B2C para se basear, é só seguir a ideia do marketing de conteúdo, de passar informações relacionados a sua empresa, tornando-a uma autoridade no assunto. E, além disso, mostrar maneiras que o seu produto e/ou serviço pode ajudar a empresa em determinado tema.\n",
        "\n",
        "No B2B, como no marketing de conteúdo focado no B2C, é importante frisar a importância e a relevância do produto e/ou serviço para o cliente. E, melhor, a longo prazo.\n",
        "\n",
        "A empresa cliente precisa entender e saber que a vantagem trazida pelo produto será duradoura. Pois o processo de compra B2B é mais longo justamente porque há muito em jogo e muitas pessoas envolvidas.\n",
        "\n",
        "Mudar de produto ou serviço é trabalhoso e pode causar prejuízo para a empresa, assim, eles buscam e precisam de garantias de que a solução funcionará por muito tempo.\n",
        "\n",
        "Assim, como no marketing B2C, os tipos de conteúdo devem se atentar aos clientes em cada fase do funil de marketing de conteúdo para trazer o conteúdo certo para a empresa em cada momento da obtenção do cartão.\n",
        "\n",
        "Para isso, a Bytebank utilizou dados, números, infográficos e mostrou com exemplos práticos maneiras de ajudar a contratante. Também escreveu conteúdos com histórias de empresas – os chamados cases de sucesso – que obtiveram lucro ou sucesso com o produto/serviço.\n",
        "\n",
        "Além disso, apresentou novidades e dicas tanto da sua empresa, que passou a fornecer uma conta para pessoas físicas e jurídicas, quanto do segmento dela, com informações que podem ser úteis ao cliente do setor financeiro.\n",
        "\n",
        "Como vimos, as principais diferenças entre os conteúdos B2C para o B2B são a linguagem, que deve ser mais formal se for B2B e apelar para o emocional se for B2C.\n",
        "\n",
        "No B2B você estará lidando com pessoas que tomam decisões nas empresas, então deverá mostrar como o produto pode ajudar a empresa, de preferência a longo prazo.\n",
        "\n",
        "Fora isso, o tipo de conteúdo pode ser o mesmo do marketing de conteúdo B2C. Passando desde textos sobre novidades, inovações e dicas na área, até infográficos com dados de pesquisas, vídeos, áudios de podcast, imagens e publicações nas redes sociais.\n",
        "\n",
        "Também, para conteúdo B2B, é muito comum encontrar whitepapers, grupos de usuários, meetups, cases de sucesso, trial gratuito, e até mesmo vídeos ou campanhas e posts de marketing com influenciadores.\n",
        "\"\"\""
      ],
      "execution_count": 2,
      "outputs": []
    },
    {
      "cell_type": "code",
      "metadata": {
        "id": "pHumFdD8hvHm",
        "outputId": "23987305-2108-40fc-a130-56f80867a1ad",
        "colab": {
          "base_uri": "https://localhost:8080/"
        }
      },
      "source": [
        "aparicoes = Counter(texto1.lower())\n",
        "total_de_caracteres = sum(aparicoes.values())\n",
        "for letra, frequencia in aparicoes.items():\n",
        "  tupla = (letra, frequencia/total_de_caracteres)\n",
        "  print(tupla)"
      ],
      "execution_count": 11,
      "outputs": [
        {
          "output_type": "stream",
          "text": [
            "('\\n', 0.014810751508502468)\n",
            "(' ', 0.1623697202413604)\n",
            "('p', 0.03236423477783873)\n",
            "('a', 0.09599561162918267)\n",
            "('r', 0.06747120131651124)\n",
            "('c', 0.03565551289083928)\n",
            "('o', 0.09434997257268239)\n",
            "('m', 0.036204059243006036)\n",
            "('e', 0.08667032364234778)\n",
            "('ç', 0.006582556226001097)\n",
            "('f', 0.016456390565002744)\n",
            "('z', 0.0032912781130005485)\n",
            "('v', 0.015359297860669226)\n",
            "('n', 0.041689522764673616)\n",
            "('d', 0.034009873834339004)\n",
            "('s', 0.06363137685134394)\n",
            "('l', 0.015907844212835986)\n",
            "('i', 0.03236423477783873)\n",
            "(',', 0.005485463521667581)\n",
            "('u', 0.03565551289083928)\n",
            "('q', 0.010422380691168404)\n",
            "('b', 0.0032912781130005485)\n",
            "('á', 0.005485463521667581)\n",
            "('g', 0.006582556226001097)\n",
            "('é', 0.0032912781130005485)\n",
            "('t', 0.034009873834339004)\n",
            "('ã', 0.009873834339001646)\n",
            "('.', 0.005485463521667581)\n",
            "('h', 0.0021941854086670325)\n",
            "('j', 0.0021941854086670325)\n",
            "('ó', 0.0005485463521667581)\n",
            "('ú', 0.0021941854086670325)\n",
            "('í', 0.0010970927043335162)\n",
            "('-', 0.0021941854086670325)\n",
            "('k', 0.0010970927043335162)\n",
            "('5', 0.0005485463521667581)\n",
            "('x', 0.0016456390565002743)\n",
            "('õ', 0.0016456390565002743)\n",
            "('[', 0.0005485463521667581)\n",
            "('0', 0.0010970927043335162)\n",
            "('9', 0.0010970927043335162)\n",
            "(']', 0.0005485463521667581)\n",
            "('{', 0.0005485463521667581)\n",
            "('1', 0.0021941854086670325)\n",
            "('}', 0.0005485463521667581)\n",
            "(':', 0.0027427317608337905)\n",
            "('â', 0.0005485463521667581)\n"
          ],
          "name": "stdout"
        }
      ]
    }
  ]
}